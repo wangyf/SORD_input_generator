{
 "cells": [
  {
   "cell_type": "code",
   "execution_count": 2,
   "metadata": {},
   "outputs": [],
   "source": [
    "import numpy as np\n",
    "import pandas\n",
    "import matplotlib\n",
    "import matplotlib.pyplot as plt\n",
    "import matplotlib.cm as cm\n",
    "from mpl_toolkits.axes_grid1 import make_axes_locatable\n",
    "\n",
    "idtype = np.dtype( 'f8' ).str #'<f8'\n",
    "\n",
    "def readbin(file,shape,inputdtype=None):\n",
    "\tfd = open( file ,'rb')\n",
    "\tif inputdtype == None:\n",
    "\t\tinputdtype = idtype\n",
    "\tmatrix = np.fromfile(fd, inputdtype).reshape(shape).astype(idtype)\n",
    "# \tprint('Read size check',file,matrix.shape)\n",
    "\tfd.close()\n",
    "\treturn matrix\n",
    "\n",
    "nx = 3438\n",
    "nz = 1810\n",
    "\n",
    "fin='in/'\n",
    "xx=readbin(fin+'surface_x1',(nz,nx),inputdtype=\"float64\")\n",
    "zz=readbin(fin+'surface_x3',(nz,nx),inputdtype=\"float64\") "
   ]
  },
  {
   "cell_type": "code",
   "execution_count": 13,
   "metadata": {},
   "outputs": [
    {
     "data": {
      "text/plain": [
       "(57600, 58200)"
      ]
     },
     "execution_count": 13,
     "metadata": {},
     "output_type": "execute_result"
    },
    {
     "data": {
      "image/png": "[encoded data removed]",
      "text/plain": [
       "<Figure size 432x288 with 1 Axes>"
      ]
     },
     "metadata": {
      "needs_background": "light"
     },
     "output_type": "display_data"
    }
   ],
   "source": [
    "plt.plot(zz[:,344],'o')\n",
    "plt.xlim(1040,1050)\n",
    "plt.ylim(57600,58200)"
   ]
  },
  {
   "cell_type": "code",
   "execution_count": null,
   "metadata": {},
   "outputs": [],
   "source": []
  }
 ],
 "metadata": {
  "kernelspec": {
   "display_name": "Python 3",
   "language": "python",
   "name": "python3"
  },
  "language_info": {
   "codemirror_mode": {
    "name": "ipython",
    "version": 3
   },
   "file_extension": ".py",
   "mimetype": "text/x-python",
   "name": "python",
   "nbconvert_exporter": "python",
   "pygments_lexer": "ipython3",
   "version": "3.7.7"
  }
 },
 "nbformat": 4,
 "nbformat_minor": 4
}
